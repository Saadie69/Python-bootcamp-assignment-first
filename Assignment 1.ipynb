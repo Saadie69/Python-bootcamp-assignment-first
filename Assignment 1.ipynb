{
 "cells": [
  {
   "cell_type": "markdown",
   "id": "5417a1eb",
   "metadata": {},
   "source": [
    "#                                          ASSIGNMENT 1"
   ]
  },
  {
   "cell_type": "markdown",
   "id": "d7838838",
   "metadata": {},
   "source": [
    "# 1. Write a program to iterate the first 10 numbers, and in each iteration, print the sum of the current and previous number"
   ]
  },
  {
   "cell_type": "code",
   "execution_count": 1,
   "id": "5787b6e3",
   "metadata": {},
   "outputs": [
    {
     "name": "stdout",
     "output_type": "stream",
     "text": [
      "Current Number: 0\n",
      "Current Number: 1, Sum with Previous: 1\n",
      "Current Number: 2, Sum with Previous: 3\n",
      "Current Number: 3, Sum with Previous: 5\n",
      "Current Number: 4, Sum with Previous: 7\n",
      "Current Number: 5, Sum with Previous: 9\n",
      "Current Number: 6, Sum with Previous: 11\n",
      "Current Number: 7, Sum with Previous: 13\n",
      "Current Number: 8, Sum with Previous: 15\n",
      "Current Number: 9, Sum with Previous: 17\n"
     ]
    }
   ],
   "source": [
    "for i in range(10):\n",
    "    if i == 0:\n",
    "        print(f\"Current Number: {i}\")\n",
    "    else:\n",
    "        print(f\"Current Number: {i}, Sum with Previous: {i + (i - 1)}\")"
   ]
  },
  {
   "cell_type": "markdown",
   "id": "95fa2395",
   "metadata": {},
   "source": [
    "# 2 Print the following pattern\n",
    "1\n",
    "2 2\n",
    "3 3 3\n",
    "4 4 4 4\n",
    "5 5 5 5 5"
   ]
  },
  {
   "cell_type": "code",
   "execution_count": 1,
   "id": "d002c1c5",
   "metadata": {},
   "outputs": [
    {
     "name": "stdout",
     "output_type": "stream",
     "text": [
      "1 \n",
      "2 2 \n",
      "3 3 3 \n",
      "4 4 4 4 \n",
      "5 5 5 5 5 \n"
     ]
    }
   ],
   "source": [
    "rows = 5\n",
    "\n",
    "for i in range(1, rows + 1):\n",
    "    for j in range(i):\n",
    "        print(i, end=\" \")\n",
    "    print()"
   ]
  },
  {
   "cell_type": "markdown",
   "id": "c3051d31",
   "metadata": {},
   "source": [
    "# 3. List is given below:\n",
    "numbers = [12, 75, 150, 180, 145, 525, 50]\n",
    "Write a program to display only those numbers from a list that satisfy the following\n",
    "conditions\n",
    "i. The number must be divisible by five\n",
    "ii. If the number is greater than 150, then skip it and move to the next number\n",
    "iii. If the number is greater than 500, then stop the loop"
   ]
  },
  {
   "cell_type": "code",
   "execution_count": 2,
   "id": "8c21add6",
   "metadata": {},
   "outputs": [
    {
     "name": "stdout",
     "output_type": "stream",
     "text": [
      "75\n",
      "150\n",
      "145\n",
      "50\n"
     ]
    }
   ],
   "source": [
    "numbers = [12, 75, 150, 180, 145, 525, 50]\n",
    "for num in numbers:\n",
    "    if num % 5 == 0:\n",
    "        if num > 150:\n",
    "            continue\n",
    "        elif num > 500:\n",
    "            break\n",
    "        else:\n",
    "            print(num)"
   ]
  },
  {
   "cell_type": "markdown",
   "id": "6d5de376",
   "metadata": {},
   "source": [
    "# 4. Display Fibonacci series up to 10 terms\n",
    "The Fibonacci Sequence is a series of numbers. The next number is found by adding\n",
    "up the two numbers before it. The first two numbers are 0 and 1.\n",
    "For example, 0, 1, 1, 2, 3, 5, 8, 13, 21. The next number in this series above is\n",
    "13+21 = 34."
   ]
  },
  {
   "cell_type": "code",
   "execution_count": 1,
   "id": "7586fb3d",
   "metadata": {},
   "outputs": [
    {
     "name": "stdout",
     "output_type": "stream",
     "text": [
      "Fibonacci Series up to 10 terms: [0, 1, 1, 2, 3, 5, 8, 13, 21, 34]\n"
     ]
    }
   ],
   "source": [
    "def fibonacci(n):\n",
    "    fib_series = [0, 1]\n",
    "    for i in range(2, n):\n",
    "        next_term = fib_series[i-1] + fib_series[i-2]\n",
    "        fib_series.append(next_term)\n",
    "    return fib_series\n",
    "\n",
    "# Display Fibonacci series up to 10 terms\n",
    "n = 10\n",
    "fibonacci_series = fibonacci(n)\n",
    "print(f\"Fibonacci Series up to {n} terms:\", fibonacci_series)"
   ]
  },
  {
   "cell_type": "markdown",
   "id": "2a3aa9b3",
   "metadata": {},
   "source": [
    "# 5. Write a program to use the loop to find the factorial of a given number.\n",
    "The factorial (symbol: !) means to multiply all whole numbers from the chosen number\n",
    "down to 1.\n",
    "For example: calculate the factorial of 5\n",
    "5! = 5 × 4 × 3 × 2 × 1 = 120"
   ]
  },
  {
   "cell_type": "code",
   "execution_count": 2,
   "id": "c23c5202",
   "metadata": {},
   "outputs": [
    {
     "name": "stdout",
     "output_type": "stream",
     "text": [
      "The factorial of 5 is: 120\n"
     ]
    }
   ],
   "source": [
    "def factorial(n):\n",
    "    result = 1\n",
    "    for i in range(1, n + 1):\n",
    "        result *= i\n",
    "    return result\n",
    "\n",
    "number = 5\n",
    "factorial_result = factorial(number)\n",
    "\n",
    "print(f\"The factorial of {number} is: {factorial_result}\")\n"
   ]
  },
  {
   "cell_type": "markdown",
   "id": "797d539b",
   "metadata": {},
   "source": [
    "# 6. Write a program to iterate a given list and count the occurrence of each element and\n",
    "print to show the count of each element.\n",
    "sample_list = [11, 45, 8, 11, 23, 45, 23, 45, 89]\n",
    "Expected Output:\n",
    "Printing count of each item 11: 2, 45: 3, 8: 1, 23: 2, 89: 1"
   ]
  },
  {
   "cell_type": "code",
   "execution_count": 3,
   "id": "bebf9f90",
   "metadata": {},
   "outputs": [
    {
     "name": "stdout",
     "output_type": "stream",
     "text": [
      "Printing count of each item: 11: 2, 45: 3, 8: 1, 23: 2, 89: 1, "
     ]
    }
   ],
   "source": [
    "sample_list = [11, 45, 8, 11, 23, 45, 23, 45, 89]\n",
    "count_dict = {}\n",
    "for item in sample_list:\n",
    "    if item in count_dict:\n",
    "        count_dict[item] += 1\n",
    "    else:\n",
    "        count_dict[item] = 1\n",
    "print(\"Printing count of each item:\", end=\" \")\n",
    "for key, value in count_dict.items():\n",
    "    print(f\"{key}: {value}\", end=\", \")\n"
   ]
  },
  {
   "cell_type": "markdown",
   "id": "8dc53f92",
   "metadata": {},
   "source": [
    "# 7. Given two lists, l1 and l2, write a program to create a third list l3 by picking an\n",
    "odd-index element from the list l1 and even index elements from the list l2.\n",
    "Given:\n",
    "l1 = [3, 6, 9, 12, 15, 18, 21]\n",
    "l2 = [4, 8, 12, 16, 20, 24, 28]"
   ]
  },
  {
   "cell_type": "code",
   "execution_count": 4,
   "id": "1078208f",
   "metadata": {},
   "outputs": [
    {
     "name": "stdout",
     "output_type": "stream",
     "text": [
      "List l3 by picking odd-index elements from l1 and even index elements from l2: [6, 12, 18, 4, 12, 20, 28]\n"
     ]
    }
   ],
   "source": [
    "l1 = [3, 6, 9, 12, 15, 18, 21]\n",
    "l2 = [4, 8, 12, 16, 20, 24, 28]\n",
    "l3 = []\n",
    "for i in range(1, len(l1), 2):\n",
    "    l3.append(l1[i])\n",
    "for i in range(0, len(l2), 2):\n",
    "    l3.append(l2[i])\n",
    "print(\"List l3 by picking odd-index elements from l1 and even index elements from l2:\", l3)\n"
   ]
  },
  {
   "cell_type": "code",
   "execution_count": null,
   "id": "da0f4c7e",
   "metadata": {},
   "outputs": [],
   "source": []
  }
 ],
 "metadata": {
  "kernelspec": {
   "display_name": "Python 3 (ipykernel)",
   "language": "python",
   "name": "python3"
  },
  "language_info": {
   "codemirror_mode": {
    "name": "ipython",
    "version": 3
   },
   "file_extension": ".py",
   "mimetype": "text/x-python",
   "name": "python",
   "nbconvert_exporter": "python",
   "pygments_lexer": "ipython3",
   "version": "3.11.5"
  }
 },
 "nbformat": 4,
 "nbformat_minor": 5
}
